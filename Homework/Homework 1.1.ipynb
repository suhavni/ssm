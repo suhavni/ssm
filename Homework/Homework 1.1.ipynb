{
 "cells": [
  {
   "cell_type": "markdown",
   "metadata": {},
   "source": [
    "## Homework 1.1 - Electrostatic potential of a square disc\n",
    "\n",
    "Consider a square region in the $xy$-plane, such that $-1 \\le x \\le 1$ and $-1 \\le y \\le 1$, containing a uniform charge distribution $\\rho$. The electro static potential at the point $(x_p, y_p)$ due to this charge distribution is obtained by integrating over the charged region.\n",
    "\n",
    "$$\\Phi ({x_p},{y_p}) = \\frac{\\rho }{{4\\pi {\\varepsilon _0}}}\\int_{ - 1}^1 {\\int_{ - 1}^1 {\\frac{1}{{\\sqrt {{{(x - {x_p})}^2} + {{(y - {y_p})}^2}} }}} {dxdy} } $$\n",
    "\n",
    "For simplicity, use $\\frac{\\rho }{{4\\pi {\\varepsilon _0}}} = 1$. Evaluate the electric potentials $\\Phi(2, 2)$, $\\Phi(2, 4)$, $\\Phi(5, 10)$ and  $\\Phi(15, 15)$."
   ]
  },
  {
   "cell_type": "code",
   "execution_count": 3,
   "metadata": {
    "collapsed": true
   },
   "outputs": [],
   "source": [
    "from scipy.integrate import nquad\n",
    "\n",
    "def potential(x_p, y_p):\n",
    "    def integrand(x, y):\n",
    "        return ((x-x_p)**2 + (y-y_p)**2)**(-1/2)\n",
    "\n",
    "    return nquad(integrand, [[-1, 1],[-1, 1]])"
   ]
  },
  {
   "cell_type": "code",
   "execution_count": 5,
   "metadata": {},
   "outputs": [
    {
     "name": "stdout",
     "output_type": "stream",
     "text": [
      "ANS:\t 1.4493948762686601 ± 1.6091515634071965e-14\n"
     ]
    }
   ],
   "source": [
    "# \\Phi(2, 2)\n",
    "a = potential(2,2)\n",
    "print(\"ANS:\\t\", a[0], \"±\", a[1])"
   ]
  },
  {
   "cell_type": "code",
   "execution_count": 6,
   "metadata": {},
   "outputs": [
    {
     "name": "stdout",
     "output_type": "stream",
     "text": [
      "ANS:\t 0.9021779766984398 ± 1.0016187620403458e-14\n"
     ]
    }
   ],
   "source": [
    "# \\Phi(2, 4)\n",
    "a = potential(2,4)\n",
    "print(\"ANS:\\t\", a[0], \"±\", a[1])"
   ]
  },
  {
   "cell_type": "code",
   "execution_count": 7,
   "metadata": {},
   "outputs": [
    {
     "name": "stdout",
     "output_type": "stream",
     "text": [
      "ANS:\t 0.358250859760195 ± 3.977383530975265e-15\n"
     ]
    }
   ],
   "source": [
    "# \\Phi(5, 10)\n",
    "a = potential(5,10)\n",
    "print(\"ANS:\\t\", a[0], \"±\", a[1])"
   ]
  },
  {
   "cell_type": "code",
   "execution_count": 8,
   "metadata": {},
   "outputs": [
    {
     "name": "stdout",
     "output_type": "stream",
     "text": [
      "ANS:\t 0.18863186362999224 ± 2.0942343817997003e-15\n"
     ]
    }
   ],
   "source": [
    "# \\Phi(15, 15)\n",
    "a = potential(15,15)\n",
    "print(\"ANS:\\t\", a[0], \"±\", a[1])"
   ]
  }
 ],
 "metadata": {
  "interpreter": {
   "hash": "a298fc39eecb63e7cff589622e6332db95a4d713e0f1d1de954829854ba08a0a"
  },
  "kernelspec": {
   "display_name": "Python 3.9.6 64-bit ('ssm-dRJuQq0Q': pipenv)",
   "name": "python3"
  },
  "language_info": {
   "codemirror_mode": {
    "name": "ipython",
    "version": 3
   },
   "file_extension": ".py",
   "mimetype": "text/x-python",
   "name": "python",
   "nbconvert_exporter": "python",
   "pygments_lexer": "ipython3",
   "version": "3.9.6"
  }
 },
 "nbformat": 4,
 "nbformat_minor": 1
}
