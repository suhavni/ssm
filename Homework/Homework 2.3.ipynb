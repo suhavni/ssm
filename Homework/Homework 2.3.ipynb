{
 "cells": [
  {
   "cell_type": "markdown",
   "id": "6b72e040",
   "metadata": {},
   "source": [
    "### Homework 2.3 - 2D Temperature Distribution\n",
    "\n",
    "Solve 2D heat equation for the following initial conditions:\n",
    "\n",
    "$$\\begin{array}{l}\n",
    "u(x,0) = \\sin (2\\pi x)\\\\\n",
    "u(x,1) = \\sin (2\\pi x)\\\\\n",
    "u(0,y) = \\sin (3\\pi y)\\\\\n",
    "u(1,y) = \\sin (\\pi y)\n",
    "\\end{array}$$\n",
    "\n",
    "where $u(x, y)$ represent the steady state temperature distribution on 2D plane.\n",
    " \n",
    "Plot the 2D heat map of the solution."
   ]
  },
  {
   "cell_type": "markdown",
   "metadata": {},
   "source": [
    "$${u_{i,j}} = \\frac{1}{4}\\left[ {{u_{i + 1,j}} + {u_{i - 1,j}} + {u_{i,j + 1}} + {u_{i,j - 1}}} \\right]$$"
   ]
  },
  {
   "cell_type": "code",
   "execution_count": 51,
   "id": "378dcefc",
   "metadata": {},
   "outputs": [],
   "source": [
    "import numpy as np\n",
    "from math import sin, pi\n",
    "\n",
    "dim_x = 100\n",
    "dim_y = 100\n",
    "\n",
    "U = np.zeros((dim_x, dim_y))\n",
    "\n",
    "x = np.linspace(0, 1, dim_x)\n",
    "U[:, 0] = np.sin(2*np.pi*x)\n",
    "U[:, -1] = np.sin(2*np.pi*x)\n",
    "\n",
    "y = np.linspace(0, 1, dim_y)\n",
    "U[0, :] = np.sin(3*np.pi*y)\n",
    "U[-1, :] = np.sin(np.pi*y)\n",
    "\n",
    "for i in range(dim_x):\n",
    "    U[i, 0], U[i, -1] = sin(2*pi*(i/dim_x)), sin(2*pi*i/dim_x)\n",
    "    \n",
    "for j in range(dim_y):\n",
    "    U[0, j], sin(3*pi*j/dim_y)\n",
    "    U[-1, j], sin(pi*j/dim_y)\n",
    "    \n",
    "error = 10"
   ]
  },
  {
   "cell_type": "code",
   "execution_count": 52,
   "metadata": {},
   "outputs": [],
   "source": [
    "while error > 1e-4:\n",
    "    nextU = U.copy()\n",
    "    for i in range(1, dim_x-1):\n",
    "        for j in range(1, dim_y-1):\n",
    "            nextU[i, j] = (1./4) *(U[i+1, j] + U[i-1, j] + U[i, j+1] + U[i, j-1])\n",
    "    error = np.linalg.norm((nextU-U))\n",
    "    U = nextU.copy()\n",
    "#     print(error)"
   ]
  },
  {
   "cell_type": "code",
   "execution_count": 53,
   "metadata": {},
   "outputs": [
    {
     "data": {
      "text/plain": [
       "<matplotlib.image.AxesImage at 0x1f36cb76790>"
      ]
     },
     "execution_count": 53,
     "metadata": {},
     "output_type": "execute_result"
    },
    {
     "data": {
      "image/png": "[encoded data removed]",
      "text/plain": [
       "<Figure size 720x540 with 1 Axes>"
      ]
     },
     "metadata": {
      "needs_background": "light"
     },
     "output_type": "display_data"
    }
   ],
   "source": [
    "import matplotlib.pyplot as plt\n",
    "%matplotlib inline\n",
    "\n",
    "plt.figure(figsize=(10, 7.5))\n",
    "plt.imshow(U, cmap='hot')"
   ]
  },
  {
   "cell_type": "code",
   "execution_count": null,
   "metadata": {},
   "outputs": [],
   "source": []
  }
 ],
 "metadata": {
  "kernelspec": {
   "display_name": "Python 3",
   "language": "python",
   "name": "python3"
  },
  "language_info": {
   "codemirror_mode": {
    "name": "ipython",
    "version": 3
   },
   "file_extension": ".py",
   "mimetype": "text/x-python",
   "name": "python",
   "nbconvert_exporter": "python",
   "pygments_lexer": "ipython3",
   "version": "3.8.0"
  }
 },
 "nbformat": 4,
 "nbformat_minor": 5
}
