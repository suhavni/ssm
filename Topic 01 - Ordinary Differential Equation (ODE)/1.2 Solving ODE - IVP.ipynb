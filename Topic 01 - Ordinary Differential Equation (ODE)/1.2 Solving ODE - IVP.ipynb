{
 "cells": [
  {
   "cell_type": "code",
   "execution_count": 1,
   "metadata": {},
   "outputs": [],
   "source": [
    "%config Completer.use_jedi = False\n",
    "from scipy.integrate import odeint\n",
    "import matplotlib.pyplot as plt\n",
    "import numpy as np"
   ]
  },
  {
   "cell_type": "markdown",
   "metadata": {},
   "source": [
    "## 1.2 Solving Ordinary Differential Equations (ODE) Initial Value Problem (IVP) using Numpy and Scipy\n",
    "\n",
    "### 1.2.1 First Order ODE\n",
    "\n",
    "Example:\n",
    "\n",
    "$$\\frac{d\\mathbf{y}}{dt}=\\mathbf{f}\\left(\\mathbf{y},t\\right) = t^2$$\n",
    "\n",
    "Initial condition:\n",
    "$$y(0) = 1$$\n"
   ]
  },
  {
   "cell_type": "code",
   "execution_count": 2,
   "metadata": {},
   "outputs": [
    {
     "data": {
      "image/png": "[encoded data removed]",
      "text/plain": [
       "<Figure size 720x576 with 1 Axes>"
      ]
     },
     "metadata": {
      "needs_background": "light"
     },
     "output_type": "display_data"
    }
   ],
   "source": [
    "\n",
    "# calculate initial conditions, y0\n",
    "y0 = [1]\n",
    "\n",
    "# define vector f(y,t)\n",
    "def rhs(y, t):\n",
    "    return [t**2]\n",
    "\n",
    "t = np.arange(0, 4.0, 0.1)\n",
    "\n",
    "y_cal = t**3 /3 + 1\n",
    "\n",
    "y = odeint(rhs, y0, t)\n",
    "\n",
    "#print(t)\n",
    "#print(y[:,0])\n",
    "plt.figure(figsize=(10,8))\n",
    "plt.plot(t[:100], y_cal[:100], '', lw=4, color='hotpink')\n",
    "plt.plot(t, y[:,0], 'o', color=\"black\")\n",
    "plt.legend(['odeint', 'analytical solution'])\n",
    "plt.grid()\n",
    "plt.show()\n",
    "\n"
   ]
  },
  {
   "cell_type": "markdown",
   "metadata": {
    "collapsed": true
   },
   "source": [
    "____\n",
    "### 1.2.2 Second Order Ordinary Differential Equations in One dimention\n",
    "\n",
    "From: http://docs.scipy.org/doc/scipy/reference/tutorial/integrate.html\n",
    "\n",
    "Integrating a set of ordinary differential equations (ODEs) given initial conditions is another useful example. The function odeint is available in SciPy for integrating a first-order vector differential equation:\n",
    "\n",
    "$$\\frac{d\\mathbf{y}}{dt}=\\mathbf{f}\\left(\\mathbf{y},t\\right)$$\n",
    "\n",
    "given initial conditions $\\mathbf{y}\\left(0\\right)=y_{0}$ where $y$ is a length $N$ vector and $f$ is a mapping from $\\mathcal{R}^{N}$ to $\\mathcal{R}^{N}$. A higher-order ordinary differential equation can always be reduced to a differential equation of this type by introducing intermediate derivatives into the $y$ vector.\n",
    "\n",
    "For example suppose it is desired to find the solution to the following second-order differential equation:\n",
    "\n",
    "$$\\frac{d^{2}w}{dz^{2}}-zw(z)=0$$\n",
    "\n",
    "with initial conditions $w\\left(0\\right)=\\frac{1}{\\sqrt[3]{3^{2}}\\Gamma\\left(\\frac{2}{3}\\right)}$ and $\\left.\\frac{dw}{dz}\\right|_{z=0}=-\\frac{1}{\\sqrt[3]{3}\\Gamma\\left(\\frac{1}{3}\\right)}$. It is known that the solution to this differential equation with these boundary conditions is the Airy function\n",
    "\n",
    "$$w=\\textrm{Ai}\\left(z\\right)$$\n",
    "\n",
    "which gives a means to check the integrator using special.airy.\n",
    "\n",
    "First, convert this ODE into standard form by setting $\\mathbf{y}=\\left[\\frac{dw}{dz},w\\right]$ and $t = z$. Thus, the differential equation becomes\n",
    "\n",
    "$$\\begin{split}\\frac{d\\mathbf{y}}{dt}=\\left[\\begin{array}{c} ty_{1}\\\\ y_{0}\\end{array}\\right]=\\left[\\begin{array}{cc} 0 & t\\\\ 1 & 0\\end{array}\\right]\\left[\\begin{array}{c} y_{0}\\\\ y_{1}\\end{array}\\right]=\\left[\\begin{array}{cc} 0 & t\\\\ 1 & 0\\end{array}\\right]\\mathbf{y}.\\end{split}$$\n",
    "\n",
    "In other words,\n",
    "\n",
    "$$\\mathbf{f}\\left(\\mathbf{y},t\\right)=\\mathbf{A}\\left(t\\right)\\mathbf{y}$$\n",
    "\n",
    "As an interesting reminder, if $\\mathbf{A}\\left(t\\right)$ commutes with $\\int_{0}^{t}\\mathbf{A}\\left(\\tau\\right)\\, d\\tau$ under matrix multiplication, then this linear differential equation has an exact solution using the matrix exponential:\n",
    "\n",
    "$$\\mathbf{y}\\left(t\\right)=\\exp\\left(\\int_{0}^{t}\\mathbf{A}\\left(\\tau\\right)d\\tau\\right)\\mathbf{y}\\left(0\\right)$$\n",
    "\n",
    "However, in this case, $\\mathbf{A}(t)$ and its integral do not commute.\n",
    "\n",
    "There are many optional inputs and outputs available when using odeint which can help tune the solver. These additional inputs and outputs are not needed much of the time, however, and the three required input arguments and the output solution suffice. The required inputs are the function defining the derivative, fprime, the initial conditions vector, $y0$, and the time points to obtain a solution, $t$, (with the initial value point as the first element of this sequence). The output to odeint is a matrix where each row contains the solution vector at each requested time point (thus, the initial conditions are given in the first output row).\n",
    "\n",
    "The following example illustrates the use of odeint including the usage of the Dfun option which allows the user to specify a gradient (with respect to $y$) of the function, $\\mathbf{f}\\left(\\mathbf{y},t\\right)$."
   ]
  },
  {
   "cell_type": "code",
   "execution_count": 3,
   "metadata": {},
   "outputs": [
    {
     "name": "stdout",
     "output_type": "stream",
     "text": [
      "[0.35502805 0.33951139 0.32406751 0.30876307 0.29365818 0.27880648]\n",
      "[0.35502805 0.33951138 0.32406749 0.30876306 0.29365817 0.27880648]\n",
      "[0.35502805 0.33951138 0.32406749 0.30876306 0.29365817 0.27880648]\n"
     ]
    }
   ],
   "source": [
    "from scipy.special import gamma, airy\n",
    "\n",
    "# calculate initial conditions, y0\n",
    "y1_0 = 1.0 / 3**(2.0/3.0) / gamma(2.0/3.0)\n",
    "y0_0 = -1.0 / 3**(1.0/3.0) / gamma(1.0/3.0)\n",
    "y0 = [y0_0, y1_0]\n",
    "\n",
    "# define vector f(y,t)\n",
    "def func(y, t):\n",
    "    return [t*y[1],y[0]]\n",
    "\n",
    "# define gradient matrix\n",
    "def gradient(y, t):\n",
    "    return [[0,t], [1,0]]\n",
    "\n",
    "x = np.arange(0, 4.0, 0.01)\n",
    "t = x\n",
    "ychk = airy(x)[0]\n",
    "\n",
    "y = odeint(func, y0, t)\n",
    "y2 = odeint(func, y0, t, Dfun=gradient)\n",
    "\n",
    "print(ychk[:36:6])\n",
    "\n",
    "print(y[:36:6,1])\n",
    "\n",
    "print(y2[:36:6,1])"
   ]
  },
  {
   "cell_type": "markdown",
   "metadata": {},
   "source": [
    "---\n",
    "**Exercise 1:** Solve\n",
    "\n",
    "$$\\ddot y =  - 4y$$\n",
    "\n",
    "where $y(0) = 1$ and $\\dot y(0) = 0$, on the interval $0 \\le t \\le 2 \\pi$.\n",
    "\n",
    "First, **write down** the vector $\\mathbf{y}$ and the matrix equation for $\\frac{d\\mathbf{y}}{dt}$.\n",
    "\n",
    "Then, **write code** to solve the problem.\n",
    "\n",
    "Finally, **plot graph** of the solution in the interval."
   ]
  },
  {
   "cell_type": "markdown",
   "metadata": {},
   "source": [
    "*--->Replace this with $\\mathbf{y}$ and  $\\frac{d\\mathbf{y}}{dt}$*"
   ]
  },
  {
   "cell_type": "code",
   "execution_count": 4,
   "metadata": {},
   "outputs": [
    {
     "data": {
      "text/plain": [
       "[<matplotlib.lines.Line2D at 0x13f206aaeb0>]"
      ]
     },
     "execution_count": 4,
     "metadata": {},
     "output_type": "execute_result"
    },
    {
     "data": {
      "image/png": "[encoded data removed]",
      "text/plain": [
       "<Figure size 432x288 with 1 Axes>"
      ]
     },
     "metadata": {
      "needs_background": "light"
     },
     "output_type": "display_data"
    }
   ],
   "source": [
    "# write codes\n",
    "\n",
    "import matplotlib.pyplot as plt\n",
    "%matplotlib inline\n",
    "# calculate initial conditions, y0\n",
    "y0 = [1., 0]\n",
    "\n",
    "# define vector f(y,t)\n",
    "def rhs(y, t):\n",
    "    return [y[1], -4*y[0]]\n",
    "\n",
    "t = np.arange(0, 2*np.pi, 0.01)\n",
    "\n",
    "# y_cal = t**3 /3 + 1\n",
    "\n",
    "y = odeint(rhs, y0, t)\n",
    "\n",
    "# print(t)\n",
    "# print(y)\n",
    "plt.plot(t, y[:,0])\n",
    "# plt.plot(t, y_cal)\n",
    "\n"
   ]
  },
  {
   "cell_type": "markdown",
   "metadata": {},
   "source": [
    "---\n",
    "**Exercise 2:** Large amplitude pendulum\n",
    "\n",
    "A motion of a pedulum is given exactly (without approximation) by:\n",
    "\n",
    "$$\\ddot \\theta =  - \\frac{g}{l} sin \\theta$$\n",
    "\n",
    "For simplicity, choose $g = 10\\;m/s^2$ and $l = 1\\;m$.\n",
    "\n",
    "First **write down** the vector $\\mathbf{\\theta}$ and the matrix equation for $\\frac{d\\mathbf{\\theta}}{dt}$. \n",
    "\n",
    "**Solve** the problem for the amplitude of oscillation equals to $\\frac {\\pi}{2}$.\n",
    "\n",
    "Then, **plot graph** between the angle $\\theta$ as a function of time.\n",
    "\n",
    "What is difference between the periods of the large amplitude oscillation and of the SHM pendulum?"
   ]
  },
  {
   "cell_type": "markdown",
   "metadata": {},
   "source": [
    "*--->Replace this with $\\mathbf{\\theta}$ and  $\\frac{d\\mathbf{\\theta}}{dt}$*"
   ]
  },
  {
   "cell_type": "code",
   "execution_count": null,
   "metadata": {},
   "outputs": [],
   "source": []
  },
  {
   "cell_type": "markdown",
   "metadata": {},
   "source": [
    "---\n",
    "### 1.2.3 Second order ordinary differential equation in Two dimentions\n",
    "\n",
    "At this point, it should be obvious how to solve the two dimentional problem, shouldn't it?\n",
    "\n",
    "We can extend the one dimentional problem to two dimentional problem by modifying the vector $\\mathbf {y}$.\n",
    "\n",
    "Let's consider a position vector $\\mathord{\\buildrel{\\lower3pt\\hbox{$\\scriptscriptstyle\\rightharpoonup$}} \\over r}$.\n",
    "\n",
    "$$\\frac{{d\\mathord{\\buildrel{\\lower3pt\\hbox{$\\scriptscriptstyle\\rightharpoonup$}} \\over r} }}{{dt}} = \\mathord{\\buildrel{\\lower3pt\\hbox{$\\scriptscriptstyle\\rightharpoonup$}} \\over v}$$\n",
    "\n",
    "which can be written in term of components as\n",
    "\n",
    "$$\\frac{{dx}}{{dt}} = {v_x}$$\n",
    "\n",
    "$$\\frac{{dy}}{{dt}} = {v_y}$$\n",
    "\n",
    "So vector $\\mathbf {y}$ can be modified to\n",
    "\n",
    "$$\\mathbf {y} = \\left( {\\begin{array}{*{20}{c}}\n",
    "x\\\\\n",
    "{{v_x}}\\\\\n",
    "y\\\\\n",
    "{{v_y}}\n",
    "\\end{array}} \\right)$$\n"
   ]
  },
  {
   "cell_type": "markdown",
   "metadata": {},
   "source": [
    "So the equation is now in the form of\n",
    "\n",
    "$$\\frac{d\\mathbf{y}}{dt}=\\mathbf{f}\\left(\\mathbf{y},t\\right)$$\n",
    "\n",
    "which can be solve with scipy solver."
   ]
  },
  {
   "cell_type": "markdown",
   "metadata": {},
   "source": [
    "---\n",
    "**Excercise 3:** Projectile with air resistance\n",
    "\n",
    "Consider a projectile problem under gravity $\\mathbf g$ and air resistance that is directly proportional to its velocity, i.e. $c \\mathbf v$. The equation of motion is governed by:\n",
    "\n",
    "$$\\frac{{d\\mathbf v}}{{dt}} = \\mathbf g - c \\mathbf v$$\n",
    "\n",
    "given that $g = 9.8\\;m/s^2$ and $c = 0.1\\;m^{-1}$. Subjected to the initial conditions:\n",
    "\n",
    "$$v_x = 20 \\; m/s \\; \\text{and}\\;  v_y = 0$$\n",
    "\n",
    "First **write down** the vector $\\mathbf{v}$ and the matrix equation for $\\frac{d\\mathbf{v}}{dt}$.\n",
    "\n",
    "**Solve** the problem for $x$ and $y$ on the time interval $0 \\le t \\le 10\\; s$..\n",
    "\n",
    "Then, **plot graph** of both components as function of time."
   ]
  },
  {
   "cell_type": "code",
   "execution_count": 5,
   "metadata": {},
   "outputs": [
    {
     "data": {
      "text/plain": [
       "<matplotlib.legend.Legend at 0x13f201d11f0>"
      ]
     },
     "execution_count": 5,
     "metadata": {},
     "output_type": "execute_result"
    },
    {
     "data": {
      "image/png": "[encoded data removed]",
      "text/plain": [
       "<Figure size 432x288 with 1 Axes>"
      ]
     },
     "metadata": {
      "needs_background": "light"
     },
     "output_type": "display_data"
    }
   ],
   "source": [
    "y_init = [20, 0, 0, 0]\n",
    "\n",
    "t = np.arange(0, 10.0, 0.1)\n",
    "\n",
    "c = 0.1\n",
    "g = 9.8\n",
    "\n",
    "# define vector f(y,t)\n",
    "def rhs_c(c, y, t):\n",
    "    return [-c*y[0], -(g+c*y[1]), y[0], y[1]]\n",
    "\n",
    "y1 = odeint(lambda y, t: rhs_c(0, y, t) , y_init, t)\n",
    "\n",
    "y2 = odeint(lambda y, t: rhs_c(c, y, t) , y_init, t)\n",
    "\n",
    "\n",
    "plt.plot(y1[:,2], y1[:,3])\n",
    "plt.plot(y2[:,2], y2[:,3])\n",
    "plt.legend(['no drag', 'drag'])"
   ]
  },
  {
   "cell_type": "code",
   "execution_count": null,
   "metadata": {},
   "outputs": [],
   "source": []
  }
 ],
 "metadata": {
  "interpreter": {
   "hash": "a298fc39eecb63e7cff589622e6332db95a4d713e0f1d1de954829854ba08a0a"
  },
  "kernelspec": {
   "display_name": "Python 3",
   "language": "python",
   "name": "python3"
  },
  "language_info": {
   "codemirror_mode": {
    "name": "ipython",
    "version": 3
   },
   "file_extension": ".py",
   "mimetype": "text/x-python",
   "name": "python",
   "nbconvert_exporter": "python",
   "pygments_lexer": "ipython3",
   "version": "3.8.0"
  }
 },
 "nbformat": 4,
 "nbformat_minor": 1
}
